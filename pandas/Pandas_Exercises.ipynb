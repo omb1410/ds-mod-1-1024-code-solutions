{
  "cells": [
    {
      "cell_type": "markdown",
      "metadata": {
        "id": "3LRE2zAaquH_"
      },
      "source": [
        "# Pandas Exercises\n",
        "\n",
        "### 1. Import numpy, pandas, etc\n"
      ]
    },
    {
      "cell_type": "code",
      "execution_count": null,
      "metadata": {
        "id": "UwGRFaI2quIF"
      },
      "outputs": [],
      "source": [
        "import numpy as np\n",
        "\n",
        "# import ...."
      ]
    },
    {
      "cell_type": "markdown",
      "metadata": {
        "id": "J18-UDu2quII"
      },
      "source": [
        "### 2. Load the data from the file `\"Loan payments data.csv\"` into a variable called `\"loans\"`"
      ]
    },
    {
      "cell_type": "code",
      "execution_count": null,
      "metadata": {
        "id": "lrj940VoquIL"
      },
      "outputs": [],
      "source": [
        "loans = # ... your code here ..."
      ]
    },
    {
      "cell_type": "markdown",
      "metadata": {
        "id": "kWnhQkWGquIN"
      },
      "source": [
        "### 3. Display the first 7 rows of the data"
      ]
    },
    {
      "cell_type": "code",
      "execution_count": null,
      "metadata": {
        "id": "9ktqjZk-quIO"
      },
      "outputs": [],
      "source": [
        "# ... your code here ..."
      ]
    },
    {
      "cell_type": "markdown",
      "metadata": {
        "id": "1g_KUT51quIP"
      },
      "source": [
        "### 4. Display the last 3 rows of the data"
      ]
    },
    {
      "cell_type": "code",
      "execution_count": null,
      "metadata": {
        "id": "vFL9l10yquIQ"
      },
      "outputs": [],
      "source": [
        "# ... your code here ..."
      ]
    },
    {
      "cell_type": "markdown",
      "metadata": {
        "id": "bqhBwWkYquIR"
      },
      "source": [
        "### 5. Select 25% of the data, picked randomly and display the first 5 rows"
      ]
    },
    {
      "cell_type": "code",
      "execution_count": null,
      "metadata": {
        "id": "7M4oU4KnquIS"
      },
      "outputs": [],
      "source": [
        "# ... your code here ..."
      ]
    },
    {
      "cell_type": "markdown",
      "metadata": {
        "id": "0WniiTB0quIT"
      },
      "source": [
        "### 6. Sample 10 rows and display it"
      ]
    },
    {
      "cell_type": "code",
      "execution_count": null,
      "metadata": {
        "id": "Sa9ZzfcvquIU"
      },
      "outputs": [],
      "source": [
        "# ... your code here ..."
      ]
    },
    {
      "cell_type": "markdown",
      "metadata": {
        "id": "JZt4mMWgquIV"
      },
      "source": [
        "### 7. Display the value counts of the `loan_status` column and the `City` column"
      ]
    },
    {
      "cell_type": "code",
      "execution_count": null,
      "metadata": {
        "id": "o-zorWMpquIW"
      },
      "outputs": [],
      "source": [
        "# ... your code here ..."
      ]
    },
    {
      "cell_type": "code",
      "execution_count": null,
      "metadata": {
        "id": "6EGSKzHOquIX"
      },
      "outputs": [],
      "source": [
        "# ... your code here ..."
      ]
    },
    {
      "cell_type": "markdown",
      "metadata": {
        "id": "m62FHzegquIX"
      },
      "source": [
        "### 8. Display only the 201st row"
      ]
    },
    {
      "cell_type": "code",
      "execution_count": null,
      "metadata": {
        "id": "X3QjBqWfquIY"
      },
      "outputs": [],
      "source": [
        "# ... your code here ..."
      ]
    },
    {
      "cell_type": "markdown",
      "metadata": {
        "id": "q3rPft_3quIZ"
      },
      "source": [
        "### 9. Display only the `education` column"
      ]
    },
    {
      "cell_type": "code",
      "execution_count": null,
      "metadata": {
        "id": "aaDpNnX8quIa"
      },
      "outputs": [],
      "source": [
        "# ... your code here ..."
      ]
    },
    {
      "cell_type": "markdown",
      "metadata": {
        "id": "l2SzkeJ4quIb"
      },
      "source": [
        "### 10. Display only the `loan_status` column"
      ]
    },
    {
      "cell_type": "code",
      "execution_count": null,
      "metadata": {
        "id": "WPPOfuAcquIc"
      },
      "outputs": [],
      "source": [
        "# ... your code here ..."
      ]
    },
    {
      "cell_type": "markdown",
      "metadata": {
        "id": "tUEZsn6PquId"
      },
      "source": [
        "### 11. Display only the 9th column by index\n",
        "\n",
        "***(hint: remember that Python is 0-indexed!)***"
      ]
    },
    {
      "cell_type": "code",
      "execution_count": null,
      "metadata": {
        "id": "w1FV8yCpquId"
      },
      "outputs": [],
      "source": [
        "# ... your code here ..."
      ]
    },
    {
      "cell_type": "markdown",
      "metadata": {
        "id": "aq4XLzDMquIe"
      },
      "source": [
        "### 12. Display the 3rd through 7th rows by index slicing"
      ]
    },
    {
      "cell_type": "code",
      "execution_count": null,
      "metadata": {
        "id": "K4-j3OIGquIe"
      },
      "outputs": [],
      "source": [
        "# ... your code here ..."
      ]
    },
    {
      "cell_type": "markdown",
      "metadata": {
        "id": "lhlx0WViquIf"
      },
      "source": [
        "### 13. Display the last 3 columns by index slicing"
      ]
    },
    {
      "cell_type": "code",
      "execution_count": null,
      "metadata": {
        "id": "q_WSsmggquIf"
      },
      "outputs": [],
      "source": [
        "# ... your code here ..."
      ]
    },
    {
      "cell_type": "markdown",
      "metadata": {
        "id": "yI3dk13YquIg"
      },
      "source": [
        "### 14. Display only the rows where `Gender` is `female`"
      ]
    },
    {
      "cell_type": "code",
      "execution_count": null,
      "metadata": {
        "id": "28LYZZxKquIg"
      },
      "outputs": [],
      "source": [
        "# ... your code here ..."
      ]
    },
    {
      "cell_type": "markdown",
      "metadata": {
        "id": "_zKDRenFquIh"
      },
      "source": [
        "### 15. Display only the rows where `education` is `college` AND `City` is `NYC`"
      ]
    },
    {
      "cell_type": "code",
      "execution_count": null,
      "metadata": {
        "id": "VNUd-RFuquIh"
      },
      "outputs": [],
      "source": [
        "# ... your code here ..."
      ]
    },
    {
      "cell_type": "markdown",
      "metadata": {
        "id": "uSz06zXRquIi"
      },
      "source": [
        "### 16. Display only the rows where `age` is larger than 32"
      ]
    },
    {
      "cell_type": "code",
      "execution_count": null,
      "metadata": {
        "id": "ElZm_gekquIk"
      },
      "outputs": [],
      "source": [
        "# ... your code here ..."
      ]
    },
    {
      "cell_type": "markdown",
      "metadata": {
        "id": "CIFPuY9NquIl"
      },
      "source": [
        "### 17.  Display the rows where there is a past-due of larger than a week and only display the `due_date` and `past_due_days` columns"
      ]
    },
    {
      "cell_type": "code",
      "execution_count": null,
      "metadata": {
        "id": "TOKaGSn-quIl"
      },
      "outputs": [],
      "source": [
        "# ... your code here ..."
      ]
    }
  ],
  "metadata": {
    "kernelspec": {
      "display_name": "win_learn2",
      "language": "python",
      "name": "python3"
    },
    "language_info": {
      "codemirror_mode": {
        "name": "ipython",
        "version": 3
      },
      "file_extension": ".py",
      "mimetype": "text/x-python",
      "name": "python",
      "nbconvert_exporter": "python",
      "pygments_lexer": "ipython3",
      "version": "3.12.3"
    },
    "colab": {
      "provenance": []
    }
  },
  "nbformat": 4,
  "nbformat_minor": 0
}